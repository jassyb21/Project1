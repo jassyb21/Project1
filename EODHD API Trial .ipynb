{
 "cells": [
  {
   "cell_type": "code",
   "execution_count": 1,
   "id": "06ee60a5-c951-42ed-b3ca-ab87a9318c9d",
   "metadata": {},
   "outputs": [
    {
     "name": "stdout",
     "output_type": "stream",
     "text": [
      "Error fetching data. Status code: 404\n"
     ]
    }
   ],
   "source": [
    "import requests\n",
    "\n",
    "# Replace YOUR_API_KEY with your actual EODHD API key\n",
    "api_key = \"64372ea719a4f5.97916520\"\n",
    "\n",
    "# Construct the API request URL\n",
    "base_url = \"https://eodhistoricaldata.com/api/real-time-currency-exchange-rates\"\n",
    "params = {\n",
    "    \"api_token\": api_key,\n",
    "    \"symbols\": \"CAD,USD,EUR,GBP,JPY,AUD,NZD,CHF,CNY,HKD,SGD,KRW,INR,MXN,BRL\",\n",
    "    \"fmt\": \"json\"\n",
    "}\n",
    "response = requests.get(base_url, params=params)\n",
    "\n",
    "if response.status_code == 200:\n",
    "    data = response.json()\n",
    "    print(\"FX rates for today:\")\n",
    "    for currency, rate in data.items():\n",
    "        print(f\"{currency}: {rate}\")\n",
    "else:\n",
    "    print(f\"Error fetching data. Status code: {response.status_code}\")\n"
   ]
  },
  {
   "cell_type": "code",
   "execution_count": null,
   "id": "46ed9178-bb03-4a94-95c7-ef146a1c2018",
   "metadata": {},
   "outputs": [],
   "source": []
  }
 ],
 "metadata": {
  "kernelspec": {
   "display_name": "Python 3 (ipykernel)",
   "language": "python",
   "name": "python3"
  },
  "language_info": {
   "codemirror_mode": {
    "name": "ipython",
    "version": 3
   },
   "file_extension": ".py",
   "mimetype": "text/x-python",
   "name": "python",
   "nbconvert_exporter": "python",
   "pygments_lexer": "ipython3",
   "version": "3.9.13"
  }
 },
 "nbformat": 4,
 "nbformat_minor": 5
}
