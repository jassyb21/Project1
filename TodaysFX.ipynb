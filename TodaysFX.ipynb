{
 "cells": [
  {
   "cell_type": "code",
   "execution_count": null,
   "id": "f65bb22a-9b74-48c0-b60f-b3892fe3ab2b",
   "metadata": {},
   "outputs": [],
   "source": []
  },
  {
   "cell_type": "code",
   "execution_count": 1,
   "id": "f9cbd856-9c52-400e-8b70-3475eb7508eb",
   "metadata": {},
   "outputs": [],
   "source": [
    "import os\n",
    "import pandas as pd\n",
    "import requests\n",
    "import datetime\n",
    "import calendar\n",
    "from eod import EodHistoricalData\n",
    "from dotenv import load_dotenv\n",
    "\n",
    "\n",
    "load_dotenv()\n",
    "api_key = os.getenv(\"EOD_API_KEY\")\n",
    "client = EodHistoricalData(api_key)"
   ]
  },
  {
   "cell_type": "code",
   "execution_count": 2,
   "id": "0842f625-353d-4a2d-ad86-b41b8e6399ab",
   "metadata": {},
   "outputs": [
    {
     "data": {
      "text/html": [
       "<div>\n",
       "<style scoped>\n",
       "    .dataframe tbody tr th:only-of-type {\n",
       "        vertical-align: middle;\n",
       "    }\n",
       "\n",
       "    .dataframe tbody tr th {\n",
       "        vertical-align: top;\n",
       "    }\n",
       "\n",
       "    .dataframe thead th {\n",
       "        text-align: right;\n",
       "    }\n",
       "</style>\n",
       "<table border=\"1\" class=\"dataframe\">\n",
       "  <thead>\n",
       "    <tr style=\"text-align: right;\">\n",
       "      <th></th>\n",
       "      <th>USDCAD</th>\n",
       "    </tr>\n",
       "    <tr>\n",
       "      <th>date</th>\n",
       "      <th></th>\n",
       "    </tr>\n",
       "  </thead>\n",
       "  <tbody>\n",
       "    <tr>\n",
       "      <th>2023-04-17</th>\n",
       "      <td>1.3393</td>\n",
       "    </tr>\n",
       "  </tbody>\n",
       "</table>\n",
       "</div>"
      ],
      "text/plain": [
       "            USDCAD\n",
       "date              \n",
       "2023-04-17  1.3393"
      ]
     },
     "metadata": {},
     "output_type": "display_data"
    }
   ],
   "source": [
    "###CAD/USD pair closing\n",
    "ticker = \"USDCAD.FOREX\"\n",
    "start_date = \"2023-04-17\" \n",
    "end_date = \"2023-04-17\"\n",
    "\n",
    "cad_forex = client.get_prices_eod(ticker, period = 'd', from_ = start_date, to = end_date, order = 'a')\n",
    "cad_forex = pd.DataFrame(cad_forex)\n",
    "cad_forex = cad_forex.set_index('date')\n",
    "cad_forex = cad_forex[['close']]\n",
    "cad_forex = cad_forex.rename(columns={\"close\":\"USDCAD\"})\n",
    "cad_forex = cad_forex.dropna()\n",
    "display(cad_forex)"
   ]
  },
  {
   "cell_type": "code",
   "execution_count": 3,
   "id": "d09e92af-30c6-4c04-8264-992131f6b206",
   "metadata": {},
   "outputs": [
    {
     "data": {
      "text/html": [
       "<div>\n",
       "<style scoped>\n",
       "    .dataframe tbody tr th:only-of-type {\n",
       "        vertical-align: middle;\n",
       "    }\n",
       "\n",
       "    .dataframe tbody tr th {\n",
       "        vertical-align: top;\n",
       "    }\n",
       "\n",
       "    .dataframe thead th {\n",
       "        text-align: right;\n",
       "    }\n",
       "</style>\n",
       "<table border=\"1\" class=\"dataframe\">\n",
       "  <thead>\n",
       "    <tr style=\"text-align: right;\">\n",
       "      <th></th>\n",
       "      <th>EURCAD</th>\n",
       "    </tr>\n",
       "    <tr>\n",
       "      <th>date</th>\n",
       "      <th></th>\n",
       "    </tr>\n",
       "  </thead>\n",
       "  <tbody>\n",
       "    <tr>\n",
       "      <th>2023-04-17</th>\n",
       "      <td>1.4631</td>\n",
       "    </tr>\n",
       "  </tbody>\n",
       "</table>\n",
       "</div>"
      ],
      "text/plain": [
       "            EURCAD\n",
       "date              \n",
       "2023-04-17  1.4631"
      ]
     },
     "metadata": {},
     "output_type": "display_data"
    }
   ],
   "source": [
    "###CAD/EUR pair closing\n",
    "ticker = \"EURCAD.FOREX\"\n",
    "start_date = \"2023-04-17\" \n",
    "end_date = \"2023-04-17\"\n",
    "\n",
    "eur_forex = client.get_prices_eod(ticker, period = 'd', from_ = start_date, to = end_date, order = 'a')\n",
    "eur_forex = pd.DataFrame(eur_forex)\n",
    "eur_forex = eur_forex.set_index('date')\n",
    "eur_forex = eur_forex[['close']]\n",
    "eur_forex = eur_forex.rename(columns={\"close\":\"EURCAD\"})\n",
    "eur_forex = eur_forex.dropna()\n",
    "display(eur_forex)"
   ]
  },
  {
   "cell_type": "code",
   "execution_count": 7,
   "id": "77ff6c2c-a822-4b75-b067-8ae233280d97",
   "metadata": {},
   "outputs": [
    {
     "data": {
      "text/html": [
       "<div>\n",
       "<style scoped>\n",
       "    .dataframe tbody tr th:only-of-type {\n",
       "        vertical-align: middle;\n",
       "    }\n",
       "\n",
       "    .dataframe tbody tr th {\n",
       "        vertical-align: top;\n",
       "    }\n",
       "\n",
       "    .dataframe thead th {\n",
       "        text-align: right;\n",
       "    }\n",
       "</style>\n",
       "<table border=\"1\" class=\"dataframe\">\n",
       "  <thead>\n",
       "    <tr style=\"text-align: right;\">\n",
       "      <th></th>\n",
       "      <th>JPYCAD</th>\n",
       "    </tr>\n",
       "    <tr>\n",
       "      <th>date</th>\n",
       "      <th></th>\n",
       "    </tr>\n",
       "  </thead>\n",
       "  <tbody>\n",
       "    <tr>\n",
       "      <th>2023-04-17</th>\n",
       "      <td>0.01</td>\n",
       "    </tr>\n",
       "  </tbody>\n",
       "</table>\n",
       "</div>"
      ],
      "text/plain": [
       "            JPYCAD\n",
       "date              \n",
       "2023-04-17    0.01"
      ]
     },
     "metadata": {},
     "output_type": "display_data"
    }
   ],
   "source": [
    "###JPY/CAD pair closing\n",
    "ticker = \"JPYCAD.FOREX\"\n",
    "start_date = \"2023-04-17\" \n",
    "end_date = \"2023-04-17\"\n",
    "\n",
    "jpy_forex = client.get_prices_eod(ticker, period = 'd', from_ = start_date, to = end_date, order = 'a')\n",
    "jpy_forex = pd.DataFrame(jpy_forex)\n",
    "jpy_forex = jpy_forex.set_index('date')\n",
    "jpy_forex = jpy_forex[['close']]\n",
    "jpy_forex = jpy_forex.rename(columns={\"close\":\"JPYCAD\"})\n",
    "jpy_forex = jpy_forex.dropna()\n",
    "display(jpy_forex)"
   ]
  },
  {
   "cell_type": "code",
   "execution_count": 8,
   "id": "05b2bcde-f6bf-4fec-95ac-4bcab30e6fda",
   "metadata": {},
   "outputs": [
    {
     "data": {
      "text/html": [
       "<div>\n",
       "<style scoped>\n",
       "    .dataframe tbody tr th:only-of-type {\n",
       "        vertical-align: middle;\n",
       "    }\n",
       "\n",
       "    .dataframe tbody tr th {\n",
       "        vertical-align: top;\n",
       "    }\n",
       "\n",
       "    .dataframe thead th {\n",
       "        text-align: right;\n",
       "    }\n",
       "</style>\n",
       "<table border=\"1\" class=\"dataframe\">\n",
       "  <thead>\n",
       "    <tr style=\"text-align: right;\">\n",
       "      <th></th>\n",
       "      <th>CADBRL</th>\n",
       "    </tr>\n",
       "    <tr>\n",
       "      <th>date</th>\n",
       "      <th></th>\n",
       "    </tr>\n",
       "  </thead>\n",
       "  <tbody>\n",
       "    <tr>\n",
       "      <th>2023-04-17</th>\n",
       "      <td>3.6739</td>\n",
       "    </tr>\n",
       "  </tbody>\n",
       "</table>\n",
       "</div>"
      ],
      "text/plain": [
       "            CADBRL\n",
       "date              \n",
       "2023-04-17  3.6739"
      ]
     },
     "metadata": {},
     "output_type": "display_data"
    }
   ],
   "source": [
    "#brlcad india/cad\n",
    "###BRL/CAD pair closing\n",
    "ticker = \"CADBRL.FOREX\"\n",
    "start_date = \"2023-04-17\" \n",
    "end_date = \"2023-04-17\"\n",
    "\n",
    "brl_forex = client.get_prices_eod(ticker, period = 'd', from_ = start_date, to = end_date, order = 'a')\n",
    "brl_forex = pd.DataFrame(brl_forex)\n",
    "brl_forex = brl_forex.set_index('date')\n",
    "brl_forex = brl_forex[['close']]\n",
    "brl_forex = brl_forex.rename(columns={\"close\":\"CADBRL\"})\n",
    "brl_forex = brl_forex.dropna()\n",
    "display(brl_forex)"
   ]
  },
  {
   "cell_type": "code",
   "execution_count": 9,
   "id": "879eaa0e-3e45-401a-9b67-b1166e3eaad4",
   "metadata": {},
   "outputs": [
    {
     "data": {
      "text/html": [
       "<div>\n",
       "<style scoped>\n",
       "    .dataframe tbody tr th:only-of-type {\n",
       "        vertical-align: middle;\n",
       "    }\n",
       "\n",
       "    .dataframe tbody tr th {\n",
       "        vertical-align: top;\n",
       "    }\n",
       "\n",
       "    .dataframe thead th {\n",
       "        text-align: right;\n",
       "    }\n",
       "</style>\n",
       "<table border=\"1\" class=\"dataframe\">\n",
       "  <thead>\n",
       "    <tr style=\"text-align: right;\">\n",
       "      <th></th>\n",
       "      <th>CADINR</th>\n",
       "    </tr>\n",
       "    <tr>\n",
       "      <th>date</th>\n",
       "      <th></th>\n",
       "    </tr>\n",
       "  </thead>\n",
       "  <tbody>\n",
       "    <tr>\n",
       "      <th>2023-04-17</th>\n",
       "      <td>61.1998</td>\n",
       "    </tr>\n",
       "  </tbody>\n",
       "</table>\n",
       "</div>"
      ],
      "text/plain": [
       "             CADINR\n",
       "date               \n",
       "2023-04-17  61.1998"
      ]
     },
     "metadata": {},
     "output_type": "display_data"
    }
   ],
   "source": [
    "###INR/CAD pair closing\n",
    "ticker = \"CADINR.FOREX\"\n",
    "start_date = \"2023-04-17\" \n",
    "end_date = \"2023-04-17\"\n",
    "\n",
    "inr_forex = client.get_prices_eod(ticker, period = 'd', from_ = start_date, to = end_date, order = 'a')\n",
    "inr_forex = pd.DataFrame(inr_forex)\n",
    "inr_forex = inr_forex.set_index('date')\n",
    "inr_forex = inr_forex[['close']]\n",
    "inr_forex = inr_forex.rename(columns={\"close\":\"CADINR\"})\n",
    "inr_forex = inr_forex.dropna()\n",
    "display(inr_forex)"
   ]
  },
  {
   "cell_type": "code",
   "execution_count": 10,
   "id": "c6ed5c56-f24e-400c-9f56-c7cb320979eb",
   "metadata": {},
   "outputs": [
    {
     "data": {
      "text/html": [
       "<div>\n",
       "<style scoped>\n",
       "    .dataframe tbody tr th:only-of-type {\n",
       "        vertical-align: middle;\n",
       "    }\n",
       "\n",
       "    .dataframe tbody tr th {\n",
       "        vertical-align: top;\n",
       "    }\n",
       "\n",
       "    .dataframe thead th {\n",
       "        text-align: right;\n",
       "    }\n",
       "</style>\n",
       "<table border=\"1\" class=\"dataframe\">\n",
       "  <thead>\n",
       "    <tr style=\"text-align: right;\">\n",
       "      <th></th>\n",
       "      <th>USDCAD</th>\n",
       "      <th>EURCAD</th>\n",
       "      <th>JPYCAD</th>\n",
       "      <th>CADBRL</th>\n",
       "      <th>CADINR</th>\n",
       "    </tr>\n",
       "    <tr>\n",
       "      <th>date</th>\n",
       "      <th></th>\n",
       "      <th></th>\n",
       "      <th></th>\n",
       "      <th></th>\n",
       "      <th></th>\n",
       "    </tr>\n",
       "  </thead>\n",
       "  <tbody>\n",
       "    <tr>\n",
       "      <th>2023-04-17</th>\n",
       "      <td>1.3393</td>\n",
       "      <td>NaN</td>\n",
       "      <td>NaN</td>\n",
       "      <td>NaN</td>\n",
       "      <td>NaN</td>\n",
       "    </tr>\n",
       "    <tr>\n",
       "      <th>2023-04-17</th>\n",
       "      <td>NaN</td>\n",
       "      <td>1.4631</td>\n",
       "      <td>NaN</td>\n",
       "      <td>NaN</td>\n",
       "      <td>NaN</td>\n",
       "    </tr>\n",
       "    <tr>\n",
       "      <th>2023-04-17</th>\n",
       "      <td>NaN</td>\n",
       "      <td>NaN</td>\n",
       "      <td>0.01</td>\n",
       "      <td>NaN</td>\n",
       "      <td>NaN</td>\n",
       "    </tr>\n",
       "    <tr>\n",
       "      <th>2023-04-17</th>\n",
       "      <td>NaN</td>\n",
       "      <td>NaN</td>\n",
       "      <td>NaN</td>\n",
       "      <td>3.6739</td>\n",
       "      <td>NaN</td>\n",
       "    </tr>\n",
       "    <tr>\n",
       "      <th>2023-04-17</th>\n",
       "      <td>NaN</td>\n",
       "      <td>NaN</td>\n",
       "      <td>NaN</td>\n",
       "      <td>NaN</td>\n",
       "      <td>61.1998</td>\n",
       "    </tr>\n",
       "  </tbody>\n",
       "</table>\n",
       "</div>"
      ],
      "text/plain": [
       "            USDCAD  EURCAD  JPYCAD  CADBRL   CADINR\n",
       "date                                               \n",
       "2023-04-17  1.3393     NaN     NaN     NaN      NaN\n",
       "2023-04-17     NaN  1.4631     NaN     NaN      NaN\n",
       "2023-04-17     NaN     NaN    0.01     NaN      NaN\n",
       "2023-04-17     NaN     NaN     NaN  3.6739      NaN\n",
       "2023-04-17     NaN     NaN     NaN     NaN  61.1998"
      ]
     },
     "execution_count": 10,
     "metadata": {},
     "output_type": "execute_result"
    }
   ],
   "source": [
    "# Concatenate all Dataframes, using an inner join.\n",
    "all_indices = pd.concat([cad_forex, eur_forex, jpy_forex, brl_forex, inr_forex], axis=\"rows\", join=\"outer\")\n",
    "\n",
    "all_indices.tail()"
   ]
  },
  {
   "cell_type": "code",
   "execution_count": null,
   "id": "bae8ef5a-32bd-4d52-8548-d06974f3f258",
   "metadata": {},
   "outputs": [],
   "source": []
  },
  {
   "cell_type": "code",
   "execution_count": null,
   "id": "b88dbd8c-ba69-461c-99c7-29ef03a0ec48",
   "metadata": {},
   "outputs": [],
   "source": []
  }
 ],
 "metadata": {
  "kernelspec": {
   "display_name": "Python 3 (ipykernel)",
   "language": "python",
   "name": "python3"
  },
  "language_info": {
   "codemirror_mode": {
    "name": "ipython",
    "version": 3
   },
   "file_extension": ".py",
   "mimetype": "text/x-python",
   "name": "python",
   "nbconvert_exporter": "python",
   "pygments_lexer": "ipython3",
   "version": "3.9.13"
  }
 },
 "nbformat": 4,
 "nbformat_minor": 5
}
